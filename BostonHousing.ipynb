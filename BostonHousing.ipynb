{
  "nbformat": 4,
  "nbformat_minor": 0,
  "metadata": {
    "colab": {
      "name": "RealBostonHousing.ipynb",
      "provenance": []
    },
    "kernelspec": {
      "name": "python3",
      "display_name": "Python 3"
    }
  },
  "cells": [
    {
      "cell_type": "markdown",
      "metadata": {
        "id": "rOyBandQt8oJ",
        "colab_type": "text"
      },
      "source": [
        "Step 1: Big Picture and Setup"
      ]
    },
    {
      "cell_type": "markdown",
      "metadata": {
        "id": "aIpvEXy1imSF",
        "colab_type": "text"
      },
      "source": [
        "The goal is to build a model that most accurately predicts the median value of houses in Boston."
      ]
    },
    {
      "cell_type": "code",
      "metadata": {
        "id": "Q2tpI8VNt3-C",
        "colab_type": "code",
        "colab": {}
      },
      "source": [
        "#Andrew Lin\n",
        "import pandas as pd\n",
        "import numpy as np\n",
        "import matplotlib.pyplot as plt\n",
        "%matplotlib inline"
      ],
      "execution_count": null,
      "outputs": []
    },
    {
      "cell_type": "markdown",
      "metadata": {
        "id": "k8YZDIycu993",
        "colab_type": "text"
      },
      "source": [
        "Step 2: Get the Data\n"
      ]
    },
    {
      "cell_type": "code",
      "metadata": {
        "id": "2jI0YXmPt-TM",
        "colab_type": "code",
        "colab": {
          "base_uri": "https://localhost:8080/",
          "height": 204
        },
        "outputId": "c5e621c7-8fe0-4b82-b4f5-df4529b41ddc"
      },
      "source": [
        "housing = pd.read_csv(\"housing.csv\", delim_whitespace=True, header=None)\n",
        "housing.head()"
      ],
      "execution_count": null,
      "outputs": [
        {
          "output_type": "execute_result",
          "data": {
            "text/html": [
              "<div>\n",
              "<style scoped>\n",
              "    .dataframe tbody tr th:only-of-type {\n",
              "        vertical-align: middle;\n",
              "    }\n",
              "\n",
              "    .dataframe tbody tr th {\n",
              "        vertical-align: top;\n",
              "    }\n",
              "\n",
              "    .dataframe thead th {\n",
              "        text-align: right;\n",
              "    }\n",
              "</style>\n",
              "<table border=\"1\" class=\"dataframe\">\n",
              "  <thead>\n",
              "    <tr style=\"text-align: right;\">\n",
              "      <th></th>\n",
              "      <th>0</th>\n",
              "      <th>1</th>\n",
              "      <th>2</th>\n",
              "      <th>3</th>\n",
              "      <th>4</th>\n",
              "      <th>5</th>\n",
              "      <th>6</th>\n",
              "      <th>7</th>\n",
              "      <th>8</th>\n",
              "      <th>9</th>\n",
              "      <th>10</th>\n",
              "      <th>11</th>\n",
              "      <th>12</th>\n",
              "      <th>13</th>\n",
              "    </tr>\n",
              "  </thead>\n",
              "  <tbody>\n",
              "    <tr>\n",
              "      <th>0</th>\n",
              "      <td>0.00632</td>\n",
              "      <td>18.0</td>\n",
              "      <td>2.31</td>\n",
              "      <td>0</td>\n",
              "      <td>0.538</td>\n",
              "      <td>6.575</td>\n",
              "      <td>65.2</td>\n",
              "      <td>4.0900</td>\n",
              "      <td>1</td>\n",
              "      <td>296.0</td>\n",
              "      <td>15.3</td>\n",
              "      <td>396.90</td>\n",
              "      <td>4.98</td>\n",
              "      <td>24.0</td>\n",
              "    </tr>\n",
              "    <tr>\n",
              "      <th>1</th>\n",
              "      <td>0.02731</td>\n",
              "      <td>0.0</td>\n",
              "      <td>7.07</td>\n",
              "      <td>0</td>\n",
              "      <td>0.469</td>\n",
              "      <td>6.421</td>\n",
              "      <td>78.9</td>\n",
              "      <td>4.9671</td>\n",
              "      <td>2</td>\n",
              "      <td>242.0</td>\n",
              "      <td>17.8</td>\n",
              "      <td>396.90</td>\n",
              "      <td>9.14</td>\n",
              "      <td>21.6</td>\n",
              "    </tr>\n",
              "    <tr>\n",
              "      <th>2</th>\n",
              "      <td>0.02729</td>\n",
              "      <td>0.0</td>\n",
              "      <td>7.07</td>\n",
              "      <td>0</td>\n",
              "      <td>0.469</td>\n",
              "      <td>7.185</td>\n",
              "      <td>61.1</td>\n",
              "      <td>4.9671</td>\n",
              "      <td>2</td>\n",
              "      <td>242.0</td>\n",
              "      <td>17.8</td>\n",
              "      <td>392.83</td>\n",
              "      <td>4.03</td>\n",
              "      <td>34.7</td>\n",
              "    </tr>\n",
              "    <tr>\n",
              "      <th>3</th>\n",
              "      <td>0.03237</td>\n",
              "      <td>0.0</td>\n",
              "      <td>2.18</td>\n",
              "      <td>0</td>\n",
              "      <td>0.458</td>\n",
              "      <td>6.998</td>\n",
              "      <td>45.8</td>\n",
              "      <td>6.0622</td>\n",
              "      <td>3</td>\n",
              "      <td>222.0</td>\n",
              "      <td>18.7</td>\n",
              "      <td>394.63</td>\n",
              "      <td>2.94</td>\n",
              "      <td>33.4</td>\n",
              "    </tr>\n",
              "    <tr>\n",
              "      <th>4</th>\n",
              "      <td>0.06905</td>\n",
              "      <td>0.0</td>\n",
              "      <td>2.18</td>\n",
              "      <td>0</td>\n",
              "      <td>0.458</td>\n",
              "      <td>7.147</td>\n",
              "      <td>54.2</td>\n",
              "      <td>6.0622</td>\n",
              "      <td>3</td>\n",
              "      <td>222.0</td>\n",
              "      <td>18.7</td>\n",
              "      <td>396.90</td>\n",
              "      <td>5.33</td>\n",
              "      <td>36.2</td>\n",
              "    </tr>\n",
              "  </tbody>\n",
              "</table>\n",
              "</div>"
            ],
            "text/plain": [
              "        0     1     2   3      4      5   ...  8      9     10      11    12    13\n",
              "0  0.00632  18.0  2.31   0  0.538  6.575  ...   1  296.0  15.3  396.90  4.98  24.0\n",
              "1  0.02731   0.0  7.07   0  0.469  6.421  ...   2  242.0  17.8  396.90  9.14  21.6\n",
              "2  0.02729   0.0  7.07   0  0.469  7.185  ...   2  242.0  17.8  392.83  4.03  34.7\n",
              "3  0.03237   0.0  2.18   0  0.458  6.998  ...   3  222.0  18.7  394.63  2.94  33.4\n",
              "4  0.06905   0.0  2.18   0  0.458  7.147  ...   3  222.0  18.7  396.90  5.33  36.2\n",
              "\n",
              "[5 rows x 14 columns]"
            ]
          },
          "metadata": {
            "tags": []
          },
          "execution_count": 4
        }
      ]
    },
    {
      "cell_type": "code",
      "metadata": {
        "id": "dNFufjsVuUGg",
        "colab_type": "code",
        "colab": {
          "base_uri": "https://localhost:8080/",
          "height": 204
        },
        "outputId": "8e210189-31d7-41ed-9e02-9234426b1363"
      },
      "source": [
        "#Giving Names to the Columns\n",
        "housing.columns = [\"CRIM\", \"ZN\", \"INDUS\", \"CHAS\", \"NOX\", \"RM\", \"AGE\", \"DIS\", \"RAD\", \"TAX\", \"PTRATIO\", \"B\", \"LSTAT\", \"MEDV\"]\n",
        "housing.head()"
      ],
      "execution_count": null,
      "outputs": [
        {
          "output_type": "execute_result",
          "data": {
            "text/html": [
              "<div>\n",
              "<style scoped>\n",
              "    .dataframe tbody tr th:only-of-type {\n",
              "        vertical-align: middle;\n",
              "    }\n",
              "\n",
              "    .dataframe tbody tr th {\n",
              "        vertical-align: top;\n",
              "    }\n",
              "\n",
              "    .dataframe thead th {\n",
              "        text-align: right;\n",
              "    }\n",
              "</style>\n",
              "<table border=\"1\" class=\"dataframe\">\n",
              "  <thead>\n",
              "    <tr style=\"text-align: right;\">\n",
              "      <th></th>\n",
              "      <th>CRIM</th>\n",
              "      <th>ZN</th>\n",
              "      <th>INDUS</th>\n",
              "      <th>CHAS</th>\n",
              "      <th>NOX</th>\n",
              "      <th>RM</th>\n",
              "      <th>AGE</th>\n",
              "      <th>DIS</th>\n",
              "      <th>RAD</th>\n",
              "      <th>TAX</th>\n",
              "      <th>PTRATIO</th>\n",
              "      <th>B</th>\n",
              "      <th>LSTAT</th>\n",
              "      <th>MEDV</th>\n",
              "    </tr>\n",
              "  </thead>\n",
              "  <tbody>\n",
              "    <tr>\n",
              "      <th>0</th>\n",
              "      <td>0.00632</td>\n",
              "      <td>18.0</td>\n",
              "      <td>2.31</td>\n",
              "      <td>0</td>\n",
              "      <td>0.538</td>\n",
              "      <td>6.575</td>\n",
              "      <td>65.2</td>\n",
              "      <td>4.0900</td>\n",
              "      <td>1</td>\n",
              "      <td>296.0</td>\n",
              "      <td>15.3</td>\n",
              "      <td>396.90</td>\n",
              "      <td>4.98</td>\n",
              "      <td>24.0</td>\n",
              "    </tr>\n",
              "    <tr>\n",
              "      <th>1</th>\n",
              "      <td>0.02731</td>\n",
              "      <td>0.0</td>\n",
              "      <td>7.07</td>\n",
              "      <td>0</td>\n",
              "      <td>0.469</td>\n",
              "      <td>6.421</td>\n",
              "      <td>78.9</td>\n",
              "      <td>4.9671</td>\n",
              "      <td>2</td>\n",
              "      <td>242.0</td>\n",
              "      <td>17.8</td>\n",
              "      <td>396.90</td>\n",
              "      <td>9.14</td>\n",
              "      <td>21.6</td>\n",
              "    </tr>\n",
              "    <tr>\n",
              "      <th>2</th>\n",
              "      <td>0.02729</td>\n",
              "      <td>0.0</td>\n",
              "      <td>7.07</td>\n",
              "      <td>0</td>\n",
              "      <td>0.469</td>\n",
              "      <td>7.185</td>\n",
              "      <td>61.1</td>\n",
              "      <td>4.9671</td>\n",
              "      <td>2</td>\n",
              "      <td>242.0</td>\n",
              "      <td>17.8</td>\n",
              "      <td>392.83</td>\n",
              "      <td>4.03</td>\n",
              "      <td>34.7</td>\n",
              "    </tr>\n",
              "    <tr>\n",
              "      <th>3</th>\n",
              "      <td>0.03237</td>\n",
              "      <td>0.0</td>\n",
              "      <td>2.18</td>\n",
              "      <td>0</td>\n",
              "      <td>0.458</td>\n",
              "      <td>6.998</td>\n",
              "      <td>45.8</td>\n",
              "      <td>6.0622</td>\n",
              "      <td>3</td>\n",
              "      <td>222.0</td>\n",
              "      <td>18.7</td>\n",
              "      <td>394.63</td>\n",
              "      <td>2.94</td>\n",
              "      <td>33.4</td>\n",
              "    </tr>\n",
              "    <tr>\n",
              "      <th>4</th>\n",
              "      <td>0.06905</td>\n",
              "      <td>0.0</td>\n",
              "      <td>2.18</td>\n",
              "      <td>0</td>\n",
              "      <td>0.458</td>\n",
              "      <td>7.147</td>\n",
              "      <td>54.2</td>\n",
              "      <td>6.0622</td>\n",
              "      <td>3</td>\n",
              "      <td>222.0</td>\n",
              "      <td>18.7</td>\n",
              "      <td>396.90</td>\n",
              "      <td>5.33</td>\n",
              "      <td>36.2</td>\n",
              "    </tr>\n",
              "  </tbody>\n",
              "</table>\n",
              "</div>"
            ],
            "text/plain": [
              "      CRIM    ZN  INDUS  CHAS    NOX  ...    TAX  PTRATIO       B  LSTAT  MEDV\n",
              "0  0.00632  18.0   2.31     0  0.538  ...  296.0     15.3  396.90   4.98  24.0\n",
              "1  0.02731   0.0   7.07     0  0.469  ...  242.0     17.8  396.90   9.14  21.6\n",
              "2  0.02729   0.0   7.07     0  0.469  ...  242.0     17.8  392.83   4.03  34.7\n",
              "3  0.03237   0.0   2.18     0  0.458  ...  222.0     18.7  394.63   2.94  33.4\n",
              "4  0.06905   0.0   2.18     0  0.458  ...  222.0     18.7  396.90   5.33  36.2\n",
              "\n",
              "[5 rows x 14 columns]"
            ]
          },
          "metadata": {
            "tags": []
          },
          "execution_count": 5
        }
      ]
    },
    {
      "cell_type": "code",
      "metadata": {
        "id": "C7UxoRd3uWR3",
        "colab_type": "code",
        "colab": {
          "base_uri": "https://localhost:8080/",
          "height": 674
        },
        "outputId": "d0c302a9-f6a1-406d-e8c7-15329ac4501a"
      },
      "source": [
        "housing.info()\n",
        "housing.describe()"
      ],
      "execution_count": null,
      "outputs": [
        {
          "output_type": "stream",
          "text": [
            "<class 'pandas.core.frame.DataFrame'>\n",
            "RangeIndex: 506 entries, 0 to 505\n",
            "Data columns (total 14 columns):\n",
            " #   Column   Non-Null Count  Dtype  \n",
            "---  ------   --------------  -----  \n",
            " 0   CRIM     506 non-null    float64\n",
            " 1   ZN       506 non-null    float64\n",
            " 2   INDUS    506 non-null    float64\n",
            " 3   CHAS     506 non-null    int64  \n",
            " 4   NOX      506 non-null    float64\n",
            " 5   RM       506 non-null    float64\n",
            " 6   AGE      506 non-null    float64\n",
            " 7   DIS      506 non-null    float64\n",
            " 8   RAD      506 non-null    int64  \n",
            " 9   TAX      506 non-null    float64\n",
            " 10  PTRATIO  506 non-null    float64\n",
            " 11  B        506 non-null    float64\n",
            " 12  LSTAT    506 non-null    float64\n",
            " 13  MEDV     506 non-null    float64\n",
            "dtypes: float64(12), int64(2)\n",
            "memory usage: 55.5 KB\n"
          ],
          "name": "stdout"
        },
        {
          "output_type": "execute_result",
          "data": {
            "text/html": [
              "<div>\n",
              "<style scoped>\n",
              "    .dataframe tbody tr th:only-of-type {\n",
              "        vertical-align: middle;\n",
              "    }\n",
              "\n",
              "    .dataframe tbody tr th {\n",
              "        vertical-align: top;\n",
              "    }\n",
              "\n",
              "    .dataframe thead th {\n",
              "        text-align: right;\n",
              "    }\n",
              "</style>\n",
              "<table border=\"1\" class=\"dataframe\">\n",
              "  <thead>\n",
              "    <tr style=\"text-align: right;\">\n",
              "      <th></th>\n",
              "      <th>CRIM</th>\n",
              "      <th>ZN</th>\n",
              "      <th>INDUS</th>\n",
              "      <th>CHAS</th>\n",
              "      <th>NOX</th>\n",
              "      <th>RM</th>\n",
              "      <th>AGE</th>\n",
              "      <th>DIS</th>\n",
              "      <th>RAD</th>\n",
              "      <th>TAX</th>\n",
              "      <th>PTRATIO</th>\n",
              "      <th>B</th>\n",
              "      <th>LSTAT</th>\n",
              "      <th>MEDV</th>\n",
              "    </tr>\n",
              "  </thead>\n",
              "  <tbody>\n",
              "    <tr>\n",
              "      <th>count</th>\n",
              "      <td>506.000000</td>\n",
              "      <td>506.000000</td>\n",
              "      <td>506.000000</td>\n",
              "      <td>506.000000</td>\n",
              "      <td>506.000000</td>\n",
              "      <td>506.000000</td>\n",
              "      <td>506.000000</td>\n",
              "      <td>506.000000</td>\n",
              "      <td>506.000000</td>\n",
              "      <td>506.000000</td>\n",
              "      <td>506.000000</td>\n",
              "      <td>506.000000</td>\n",
              "      <td>506.000000</td>\n",
              "      <td>506.000000</td>\n",
              "    </tr>\n",
              "    <tr>\n",
              "      <th>mean</th>\n",
              "      <td>3.613524</td>\n",
              "      <td>11.363636</td>\n",
              "      <td>11.136779</td>\n",
              "      <td>0.069170</td>\n",
              "      <td>0.554695</td>\n",
              "      <td>6.284634</td>\n",
              "      <td>68.574901</td>\n",
              "      <td>3.795043</td>\n",
              "      <td>9.549407</td>\n",
              "      <td>408.237154</td>\n",
              "      <td>18.455534</td>\n",
              "      <td>356.674032</td>\n",
              "      <td>12.653063</td>\n",
              "      <td>22.532806</td>\n",
              "    </tr>\n",
              "    <tr>\n",
              "      <th>std</th>\n",
              "      <td>8.601545</td>\n",
              "      <td>23.322453</td>\n",
              "      <td>6.860353</td>\n",
              "      <td>0.253994</td>\n",
              "      <td>0.115878</td>\n",
              "      <td>0.702617</td>\n",
              "      <td>28.148861</td>\n",
              "      <td>2.105710</td>\n",
              "      <td>8.707259</td>\n",
              "      <td>168.537116</td>\n",
              "      <td>2.164946</td>\n",
              "      <td>91.294864</td>\n",
              "      <td>7.141062</td>\n",
              "      <td>9.197104</td>\n",
              "    </tr>\n",
              "    <tr>\n",
              "      <th>min</th>\n",
              "      <td>0.006320</td>\n",
              "      <td>0.000000</td>\n",
              "      <td>0.460000</td>\n",
              "      <td>0.000000</td>\n",
              "      <td>0.385000</td>\n",
              "      <td>3.561000</td>\n",
              "      <td>2.900000</td>\n",
              "      <td>1.129600</td>\n",
              "      <td>1.000000</td>\n",
              "      <td>187.000000</td>\n",
              "      <td>12.600000</td>\n",
              "      <td>0.320000</td>\n",
              "      <td>1.730000</td>\n",
              "      <td>5.000000</td>\n",
              "    </tr>\n",
              "    <tr>\n",
              "      <th>25%</th>\n",
              "      <td>0.082045</td>\n",
              "      <td>0.000000</td>\n",
              "      <td>5.190000</td>\n",
              "      <td>0.000000</td>\n",
              "      <td>0.449000</td>\n",
              "      <td>5.885500</td>\n",
              "      <td>45.025000</td>\n",
              "      <td>2.100175</td>\n",
              "      <td>4.000000</td>\n",
              "      <td>279.000000</td>\n",
              "      <td>17.400000</td>\n",
              "      <td>375.377500</td>\n",
              "      <td>6.950000</td>\n",
              "      <td>17.025000</td>\n",
              "    </tr>\n",
              "    <tr>\n",
              "      <th>50%</th>\n",
              "      <td>0.256510</td>\n",
              "      <td>0.000000</td>\n",
              "      <td>9.690000</td>\n",
              "      <td>0.000000</td>\n",
              "      <td>0.538000</td>\n",
              "      <td>6.208500</td>\n",
              "      <td>77.500000</td>\n",
              "      <td>3.207450</td>\n",
              "      <td>5.000000</td>\n",
              "      <td>330.000000</td>\n",
              "      <td>19.050000</td>\n",
              "      <td>391.440000</td>\n",
              "      <td>11.360000</td>\n",
              "      <td>21.200000</td>\n",
              "    </tr>\n",
              "    <tr>\n",
              "      <th>75%</th>\n",
              "      <td>3.677082</td>\n",
              "      <td>12.500000</td>\n",
              "      <td>18.100000</td>\n",
              "      <td>0.000000</td>\n",
              "      <td>0.624000</td>\n",
              "      <td>6.623500</td>\n",
              "      <td>94.075000</td>\n",
              "      <td>5.188425</td>\n",
              "      <td>24.000000</td>\n",
              "      <td>666.000000</td>\n",
              "      <td>20.200000</td>\n",
              "      <td>396.225000</td>\n",
              "      <td>16.955000</td>\n",
              "      <td>25.000000</td>\n",
              "    </tr>\n",
              "    <tr>\n",
              "      <th>max</th>\n",
              "      <td>88.976200</td>\n",
              "      <td>100.000000</td>\n",
              "      <td>27.740000</td>\n",
              "      <td>1.000000</td>\n",
              "      <td>0.871000</td>\n",
              "      <td>8.780000</td>\n",
              "      <td>100.000000</td>\n",
              "      <td>12.126500</td>\n",
              "      <td>24.000000</td>\n",
              "      <td>711.000000</td>\n",
              "      <td>22.000000</td>\n",
              "      <td>396.900000</td>\n",
              "      <td>37.970000</td>\n",
              "      <td>50.000000</td>\n",
              "    </tr>\n",
              "  </tbody>\n",
              "</table>\n",
              "</div>"
            ],
            "text/plain": [
              "             CRIM          ZN       INDUS  ...           B       LSTAT        MEDV\n",
              "count  506.000000  506.000000  506.000000  ...  506.000000  506.000000  506.000000\n",
              "mean     3.613524   11.363636   11.136779  ...  356.674032   12.653063   22.532806\n",
              "std      8.601545   23.322453    6.860353  ...   91.294864    7.141062    9.197104\n",
              "min      0.006320    0.000000    0.460000  ...    0.320000    1.730000    5.000000\n",
              "25%      0.082045    0.000000    5.190000  ...  375.377500    6.950000   17.025000\n",
              "50%      0.256510    0.000000    9.690000  ...  391.440000   11.360000   21.200000\n",
              "75%      3.677082   12.500000   18.100000  ...  396.225000   16.955000   25.000000\n",
              "max     88.976200  100.000000   27.740000  ...  396.900000   37.970000   50.000000\n",
              "\n",
              "[8 rows x 14 columns]"
            ]
          },
          "metadata": {
            "tags": []
          },
          "execution_count": 6
        }
      ]
    },
    {
      "cell_type": "code",
      "metadata": {
        "id": "sdtrWEfiudN7",
        "colab_type": "code",
        "colab": {
          "base_uri": "https://localhost:8080/",
          "height": 775
        },
        "outputId": "1cc27dff-1afd-4069-ee72-1806aa90d1a6"
      },
      "source": [
        "housing.hist(bins=50, figsize=(20,15))\n",
        "plt.show()"
      ],
      "execution_count": null,
      "outputs": [
        {
          "output_type": "display_data",
          "data": {
            "image/png": "[encoded data removed]",
            "text/plain": [
              "<Figure size 1440x1080 with 16 Axes>"
            ]
          },
          "metadata": {
            "tags": [],
            "needs_background": "light"
          }
        }
      ]
    },
    {
      "cell_type": "code",
      "metadata": {
        "id": "-1G8jayZuhQj",
        "colab_type": "code",
        "colab": {
          "base_uri": "https://localhost:8080/",
          "height": 282
        },
        "outputId": "7ed426c8-7a63-46d4-a281-c5f2569907fe"
      },
      "source": [
        "housing[\"LSTAT\"].hist()"
      ],
      "execution_count": null,
      "outputs": [
        {
          "output_type": "execute_result",
          "data": {
            "text/plain": [
              "<matplotlib.axes._subplots.AxesSubplot at 0x7f2b7314b710>"
            ]
          },
          "metadata": {
            "tags": []
          },
          "execution_count": 8
        },
        {
          "output_type": "display_data",
          "data": {
            "image/png": "[encoded data removed]",
            "text/plain": [
              "<Figure size 432x288 with 1 Axes>"
            ]
          },
          "metadata": {
            "tags": [],
            "needs_background": "light"
          }
        }
      ]
    },
    {
      "cell_type": "code",
      "metadata": {
        "id": "oIRveWeyuotQ",
        "colab_type": "code",
        "colab": {
          "base_uri": "https://localhost:8080/",
          "height": 119
        },
        "outputId": "bd24b11e-3185-43c0-c913-7d134431cf86"
      },
      "source": [
        "#Making the distribution of LSTAT more normal\n",
        "\n",
        "housing[\"LSTAT_cat\"] = pd.cut(housing[\"LSTAT\"],\n",
        "                      bins=[0., 5, 13, 25, 40, np.inf],\n",
        "                      labels=[1, 2, 3, 4, 5])\n",
        "\n",
        "housing[\"LSTAT_cat\"].value_counts()\n"
      ],
      "execution_count": null,
      "outputs": [
        {
          "output_type": "execute_result",
          "data": {
            "text/plain": [
              "2    232\n",
              "3    178\n",
              "1     62\n",
              "4     34\n",
              "5      0\n",
              "Name: LSTAT_cat, dtype: int64"
            ]
          },
          "metadata": {
            "tags": []
          },
          "execution_count": 9
        }
      ]
    },
    {
      "cell_type": "code",
      "metadata": {
        "id": "Ln7pNHaUuyfQ",
        "colab_type": "code",
        "colab": {
          "base_uri": "https://localhost:8080/",
          "height": 282
        },
        "outputId": "b42784fd-d68f-42d0-82a9-69e15dcd5ea5"
      },
      "source": [
        "housing[\"LSTAT_cat\"].hist()"
      ],
      "execution_count": null,
      "outputs": [
        {
          "output_type": "execute_result",
          "data": {
            "text/plain": [
              "<matplotlib.axes._subplots.AxesSubplot at 0x7f2b72981c88>"
            ]
          },
          "metadata": {
            "tags": []
          },
          "execution_count": 10
        },
        {
          "output_type": "display_data",
          "data": {
            "image/png": "[encoded data removed]",
            "text/plain": [
              "<Figure size 432x288 with 1 Axes>"
            ]
          },
          "metadata": {
            "tags": [],
            "needs_background": "light"
          }
        }
      ]
    },
    {
      "cell_type": "code",
      "metadata": {
        "id": "eD2fA7S1vDQW",
        "colab_type": "code",
        "colab": {}
      },
      "source": [
        "#Adjusting the Train and Test sets to look more like the population\n",
        "\n",
        "from sklearn.model_selection import StratifiedShuffleSplit\n",
        "\n",
        "split = StratifiedShuffleSplit(n_splits=3, test_size=0.2, random_state=11)\n",
        "for train_index, test_index in split.split(housing, housing[\"LSTAT_cat\"]):\n",
        "    strat_train_set = housing.loc[train_index]\n",
        "    strat_test_set = housing.loc[test_index]"
      ],
      "execution_count": null,
      "outputs": []
    },
    {
      "cell_type": "markdown",
      "metadata": {
        "id": "VnUjq902vNyx",
        "colab_type": "text"
      },
      "source": [
        "Step 3: Discover and Visualize for Insights"
      ]
    },
    {
      "cell_type": "code",
      "metadata": {
        "id": "p-OyLF3svRNy",
        "colab_type": "code",
        "colab": {}
      },
      "source": [
        "for set_ in (strat_train_set, strat_test_set):\n",
        "    set_.drop(\"LSTAT_cat\", axis = 1, inplace=True)"
      ],
      "execution_count": null,
      "outputs": []
    },
    {
      "cell_type": "code",
      "metadata": {
        "id": "GVUjMyrFvx67",
        "colab_type": "code",
        "colab": {}
      },
      "source": [
        "housing = strat_train_set.copy()\n",
        "housing2 = strat_test_set.copy()"
      ],
      "execution_count": null,
      "outputs": []
    },
    {
      "cell_type": "code",
      "metadata": {
        "id": "1SFmftuGv5yl",
        "colab_type": "code",
        "colab": {
          "base_uri": "https://localhost:8080/",
          "height": 272
        },
        "outputId": "62fdb6dc-1893-44dc-940d-11a6aaeec43c"
      },
      "source": [
        "corr_matrix = housing.corr()\n",
        "corr_matrix[\"MEDV\"].sort_values(ascending=False)"
      ],
      "execution_count": null,
      "outputs": [
        {
          "output_type": "execute_result",
          "data": {
            "text/plain": [
              "MEDV       1.000000\n",
              "RM         0.724289\n",
              "ZN         0.368822\n",
              "B          0.344012\n",
              "DIS        0.236695\n",
              "CHAS       0.205997\n",
              "AGE       -0.366694\n",
              "CRIM      -0.393589\n",
              "RAD       -0.401787\n",
              "NOX       -0.428820\n",
              "TAX       -0.469015\n",
              "INDUS     -0.475511\n",
              "PTRATIO   -0.519613\n",
              "LSTAT     -0.744289\n",
              "Name: MEDV, dtype: float64"
            ]
          },
          "metadata": {
            "tags": []
          },
          "execution_count": 14
        }
      ]
    },
    {
      "cell_type": "code",
      "metadata": {
        "id": "NB77opPSv-tf",
        "colab_type": "code",
        "colab": {}
      },
      "source": [
        "housing[\"NOXandFACT\"] = housing[\"INDUS\"] * housing[\"NOX\"]\n",
        "housing2[\"NOXandFACT\"] = housing2[\"INDUS\"] * housing2[\"NOX\"]"
      ],
      "execution_count": null,
      "outputs": []
    },
    {
      "cell_type": "code",
      "metadata": {
        "id": "QPhrZJX0wDnF",
        "colab_type": "code",
        "colab": {
          "base_uri": "https://localhost:8080/",
          "height": 289
        },
        "outputId": "8edf5c3d-a917-4e51-eb28-31aa843cb167"
      },
      "source": [
        "corr_matrix = housing.corr()\n",
        "corr_matrix[\"MEDV\"].sort_values(ascending=False)"
      ],
      "execution_count": null,
      "outputs": [
        {
          "output_type": "execute_result",
          "data": {
            "text/plain": [
              "MEDV          1.000000\n",
              "RM            0.724289\n",
              "ZN            0.368822\n",
              "B             0.344012\n",
              "DIS           0.236695\n",
              "CHAS          0.205997\n",
              "AGE          -0.366694\n",
              "CRIM         -0.393589\n",
              "RAD          -0.401787\n",
              "NOX          -0.428820\n",
              "TAX          -0.469015\n",
              "INDUS        -0.475511\n",
              "NOXandFACT   -0.483603\n",
              "PTRATIO      -0.519613\n",
              "LSTAT        -0.744289\n",
              "Name: MEDV, dtype: float64"
            ]
          },
          "metadata": {
            "tags": []
          },
          "execution_count": 16
        }
      ]
    },
    {
      "cell_type": "code",
      "metadata": {
        "id": "wIN3KtNAYh7A",
        "colab_type": "code",
        "colab": {
          "base_uri": "https://localhost:8080/",
          "height": 296
        },
        "outputId": "e52e5493-b301-443c-8905-7f31bf674417"
      },
      "source": [
        "housing.plot(kind=\"scatter\", x=\"RM\", y=\"MEDV\", alpha=0.1)"
      ],
      "execution_count": null,
      "outputs": [
        {
          "output_type": "execute_result",
          "data": {
            "text/plain": [
              "<matplotlib.axes._subplots.AxesSubplot at 0x7f2b737f1be0>"
            ]
          },
          "metadata": {
            "tags": []
          },
          "execution_count": 17
        },
        {
          "output_type": "display_data",
          "data": {
            "image/png": "[encoded data removed]",
            "text/plain": [
              "<Figure size 432x288 with 1 Axes>"
            ]
          },
          "metadata": {
            "tags": [],
            "needs_background": "light"
          }
        }
      ]
    },
    {
      "cell_type": "code",
      "metadata": {
        "id": "U85jM5O3wMQn",
        "colab_type": "code",
        "colab": {
          "base_uri": "https://localhost:8080/",
          "height": 283
        },
        "outputId": "1c62bce4-d46d-44b0-d963-594ba7212375"
      },
      "source": [
        "housing.plot(kind=\"scatter\", x=\"NOXandFACT\", y=\"MEDV\",\n",
        "             alpha=0.2)\n",
        "plt.axis([0, 5, 0, 60])\n",
        "plt.show()"
      ],
      "execution_count": null,
      "outputs": [
        {
          "output_type": "display_data",
          "data": {
            "image/png": "[encoded data removed]",
            "text/plain": [
              "<Figure size 432x288 with 1 Axes>"
            ]
          },
          "metadata": {
            "tags": [],
            "needs_background": "light"
          }
        }
      ]
    },
    {
      "cell_type": "code",
      "metadata": {
        "id": "esSNnNrhYQqK",
        "colab_type": "code",
        "colab": {
          "base_uri": "https://localhost:8080/",
          "height": 534
        },
        "outputId": "a20ccd6e-be35-442d-d10c-55fdf221a07e"
      },
      "source": [
        "#Looking for multicollinearity\n",
        "housing.corr()"
      ],
      "execution_count": null,
      "outputs": [
        {
          "output_type": "execute_result",
          "data": {
            "text/html": [
              "<div>\n",
              "<style scoped>\n",
              "    .dataframe tbody tr th:only-of-type {\n",
              "        vertical-align: middle;\n",
              "    }\n",
              "\n",
              "    .dataframe tbody tr th {\n",
              "        vertical-align: top;\n",
              "    }\n",
              "\n",
              "    .dataframe thead th {\n",
              "        text-align: right;\n",
              "    }\n",
              "</style>\n",
              "<table border=\"1\" class=\"dataframe\">\n",
              "  <thead>\n",
              "    <tr style=\"text-align: right;\">\n",
              "      <th></th>\n",
              "      <th>CRIM</th>\n",
              "      <th>ZN</th>\n",
              "      <th>INDUS</th>\n",
              "      <th>CHAS</th>\n",
              "      <th>NOX</th>\n",
              "      <th>RM</th>\n",
              "      <th>AGE</th>\n",
              "      <th>DIS</th>\n",
              "      <th>RAD</th>\n",
              "      <th>TAX</th>\n",
              "      <th>PTRATIO</th>\n",
              "      <th>B</th>\n",
              "      <th>LSTAT</th>\n",
              "      <th>MEDV</th>\n",
              "      <th>NOXandFACT</th>\n",
              "    </tr>\n",
              "  </thead>\n",
              "  <tbody>\n",
              "    <tr>\n",
              "      <th>CRIM</th>\n",
              "      <td>1.000000</td>\n",
              "      <td>-0.203785</td>\n",
              "      <td>0.424274</td>\n",
              "      <td>-0.065445</td>\n",
              "      <td>0.423872</td>\n",
              "      <td>-0.206569</td>\n",
              "      <td>0.348129</td>\n",
              "      <td>-0.376986</td>\n",
              "      <td>0.615040</td>\n",
              "      <td>0.583926</td>\n",
              "      <td>0.284418</td>\n",
              "      <td>-0.353835</td>\n",
              "      <td>0.466580</td>\n",
              "      <td>-0.393589</td>\n",
              "      <td>0.445233</td>\n",
              "    </tr>\n",
              "    <tr>\n",
              "      <th>ZN</th>\n",
              "      <td>-0.203785</td>\n",
              "      <td>1.000000</td>\n",
              "      <td>-0.537344</td>\n",
              "      <td>-0.039727</td>\n",
              "      <td>-0.518655</td>\n",
              "      <td>0.311111</td>\n",
              "      <td>-0.575807</td>\n",
              "      <td>0.656459</td>\n",
              "      <td>-0.322778</td>\n",
              "      <td>-0.322445</td>\n",
              "      <td>-0.388360</td>\n",
              "      <td>0.173124</td>\n",
              "      <td>-0.415456</td>\n",
              "      <td>0.368822</td>\n",
              "      <td>-0.502227</td>\n",
              "    </tr>\n",
              "    <tr>\n",
              "      <th>INDUS</th>\n",
              "      <td>0.424274</td>\n",
              "      <td>-0.537344</td>\n",
              "      <td>1.000000</td>\n",
              "      <td>0.062740</td>\n",
              "      <td>0.780852</td>\n",
              "      <td>-0.372767</td>\n",
              "      <td>0.653425</td>\n",
              "      <td>-0.705935</td>\n",
              "      <td>0.632258</td>\n",
              "      <td>0.742296</td>\n",
              "      <td>0.363597</td>\n",
              "      <td>-0.363302</td>\n",
              "      <td>0.608752</td>\n",
              "      <td>-0.475511</td>\n",
              "      <td>0.971994</td>\n",
              "    </tr>\n",
              "    <tr>\n",
              "      <th>CHAS</th>\n",
              "      <td>-0.065445</td>\n",
              "      <td>-0.039727</td>\n",
              "      <td>0.062740</td>\n",
              "      <td>1.000000</td>\n",
              "      <td>0.067457</td>\n",
              "      <td>0.109808</td>\n",
              "      <td>0.084183</td>\n",
              "      <td>-0.102326</td>\n",
              "      <td>-0.038416</td>\n",
              "      <td>-0.060646</td>\n",
              "      <td>-0.144281</td>\n",
              "      <td>0.046503</td>\n",
              "      <td>-0.065984</td>\n",
              "      <td>0.205997</td>\n",
              "      <td>0.071451</td>\n",
              "    </tr>\n",
              "    <tr>\n",
              "      <th>NOX</th>\n",
              "      <td>0.423872</td>\n",
              "      <td>-0.518655</td>\n",
              "      <td>0.780852</td>\n",
              "      <td>0.067457</td>\n",
              "      <td>1.000000</td>\n",
              "      <td>-0.289689</td>\n",
              "      <td>0.737918</td>\n",
              "      <td>-0.771368</td>\n",
              "      <td>0.609179</td>\n",
              "      <td>0.670013</td>\n",
              "      <td>0.153184</td>\n",
              "      <td>-0.387888</td>\n",
              "      <td>0.606249</td>\n",
              "      <td>-0.428820</td>\n",
              "      <td>0.888897</td>\n",
              "    </tr>\n",
              "    <tr>\n",
              "      <th>RM</th>\n",
              "      <td>-0.206569</td>\n",
              "      <td>0.311111</td>\n",
              "      <td>-0.372767</td>\n",
              "      <td>0.109808</td>\n",
              "      <td>-0.289689</td>\n",
              "      <td>1.000000</td>\n",
              "      <td>-0.222409</td>\n",
              "      <td>0.177865</td>\n",
              "      <td>-0.197824</td>\n",
              "      <td>-0.271795</td>\n",
              "      <td>-0.369218</td>\n",
              "      <td>0.133699</td>\n",
              "      <td>-0.632762</td>\n",
              "      <td>0.724289</td>\n",
              "      <td>-0.363084</td>\n",
              "    </tr>\n",
              "    <tr>\n",
              "      <th>AGE</th>\n",
              "      <td>0.348129</td>\n",
              "      <td>-0.575807</td>\n",
              "      <td>0.653425</td>\n",
              "      <td>0.084183</td>\n",
              "      <td>0.737918</td>\n",
              "      <td>-0.222409</td>\n",
              "      <td>1.000000</td>\n",
              "      <td>-0.759131</td>\n",
              "      <td>0.460337</td>\n",
              "      <td>0.503976</td>\n",
              "      <td>0.225499</td>\n",
              "      <td>-0.258510</td>\n",
              "      <td>0.613136</td>\n",
              "      <td>-0.366694</td>\n",
              "      <td>0.684260</td>\n",
              "    </tr>\n",
              "    <tr>\n",
              "      <th>DIS</th>\n",
              "      <td>-0.376986</td>\n",
              "      <td>0.656459</td>\n",
              "      <td>-0.705935</td>\n",
              "      <td>-0.102326</td>\n",
              "      <td>-0.771368</td>\n",
              "      <td>0.177865</td>\n",
              "      <td>-0.759131</td>\n",
              "      <td>1.000000</td>\n",
              "      <td>-0.495640</td>\n",
              "      <td>-0.527280</td>\n",
              "      <td>-0.180821</td>\n",
              "      <td>0.279500</td>\n",
              "      <td>-0.499114</td>\n",
              "      <td>0.236695</td>\n",
              "      <td>-0.722682</td>\n",
              "    </tr>\n",
              "    <tr>\n",
              "      <th>RAD</th>\n",
              "      <td>0.615040</td>\n",
              "      <td>-0.322778</td>\n",
              "      <td>0.632258</td>\n",
              "      <td>-0.038416</td>\n",
              "      <td>0.609179</td>\n",
              "      <td>-0.197824</td>\n",
              "      <td>0.460337</td>\n",
              "      <td>-0.495640</td>\n",
              "      <td>1.000000</td>\n",
              "      <td>0.924262</td>\n",
              "      <td>0.465402</td>\n",
              "      <td>-0.422489</td>\n",
              "      <td>0.506451</td>\n",
              "      <td>-0.401787</td>\n",
              "      <td>0.649945</td>\n",
              "    </tr>\n",
              "    <tr>\n",
              "      <th>TAX</th>\n",
              "      <td>0.583926</td>\n",
              "      <td>-0.322445</td>\n",
              "      <td>0.742296</td>\n",
              "      <td>-0.060646</td>\n",
              "      <td>0.670013</td>\n",
              "      <td>-0.271795</td>\n",
              "      <td>0.503976</td>\n",
              "      <td>-0.527280</td>\n",
              "      <td>0.924262</td>\n",
              "      <td>1.000000</td>\n",
              "      <td>0.444281</td>\n",
              "      <td>-0.432307</td>\n",
              "      <td>0.555013</td>\n",
              "      <td>-0.469015</td>\n",
              "      <td>0.757909</td>\n",
              "    </tr>\n",
              "    <tr>\n",
              "      <th>PTRATIO</th>\n",
              "      <td>0.284418</td>\n",
              "      <td>-0.388360</td>\n",
              "      <td>0.363597</td>\n",
              "      <td>-0.144281</td>\n",
              "      <td>0.153184</td>\n",
              "      <td>-0.369218</td>\n",
              "      <td>0.225499</td>\n",
              "      <td>-0.180821</td>\n",
              "      <td>0.465402</td>\n",
              "      <td>0.444281</td>\n",
              "      <td>1.000000</td>\n",
              "      <td>-0.171917</td>\n",
              "      <td>0.368505</td>\n",
              "      <td>-0.519613</td>\n",
              "      <td>0.295161</td>\n",
              "    </tr>\n",
              "    <tr>\n",
              "      <th>B</th>\n",
              "      <td>-0.353835</td>\n",
              "      <td>0.173124</td>\n",
              "      <td>-0.363302</td>\n",
              "      <td>0.046503</td>\n",
              "      <td>-0.387888</td>\n",
              "      <td>0.133699</td>\n",
              "      <td>-0.258510</td>\n",
              "      <td>0.279500</td>\n",
              "      <td>-0.422489</td>\n",
              "      <td>-0.432307</td>\n",
              "      <td>-0.171917</td>\n",
              "      <td>1.000000</td>\n",
              "      <td>-0.366304</td>\n",
              "      <td>0.344012</td>\n",
              "      <td>-0.395180</td>\n",
              "    </tr>\n",
              "    <tr>\n",
              "      <th>LSTAT</th>\n",
              "      <td>0.466580</td>\n",
              "      <td>-0.415456</td>\n",
              "      <td>0.608752</td>\n",
              "      <td>-0.065984</td>\n",
              "      <td>0.606249</td>\n",
              "      <td>-0.632762</td>\n",
              "      <td>0.613136</td>\n",
              "      <td>-0.499114</td>\n",
              "      <td>0.506451</td>\n",
              "      <td>0.555013</td>\n",
              "      <td>0.368505</td>\n",
              "      <td>-0.366304</td>\n",
              "      <td>1.000000</td>\n",
              "      <td>-0.744289</td>\n",
              "      <td>0.634137</td>\n",
              "    </tr>\n",
              "    <tr>\n",
              "      <th>MEDV</th>\n",
              "      <td>-0.393589</td>\n",
              "      <td>0.368822</td>\n",
              "      <td>-0.475511</td>\n",
              "      <td>0.205997</td>\n",
              "      <td>-0.428820</td>\n",
              "      <td>0.724289</td>\n",
              "      <td>-0.366694</td>\n",
              "      <td>0.236695</td>\n",
              "      <td>-0.401787</td>\n",
              "      <td>-0.469015</td>\n",
              "      <td>-0.519613</td>\n",
              "      <td>0.344012</td>\n",
              "      <td>-0.744289</td>\n",
              "      <td>1.000000</td>\n",
              "      <td>-0.483603</td>\n",
              "    </tr>\n",
              "    <tr>\n",
              "      <th>NOXandFACT</th>\n",
              "      <td>0.445233</td>\n",
              "      <td>-0.502227</td>\n",
              "      <td>0.971994</td>\n",
              "      <td>0.071451</td>\n",
              "      <td>0.888897</td>\n",
              "      <td>-0.363084</td>\n",
              "      <td>0.684260</td>\n",
              "      <td>-0.722682</td>\n",
              "      <td>0.649945</td>\n",
              "      <td>0.757909</td>\n",
              "      <td>0.295161</td>\n",
              "      <td>-0.395180</td>\n",
              "      <td>0.634137</td>\n",
              "      <td>-0.483603</td>\n",
              "      <td>1.000000</td>\n",
              "    </tr>\n",
              "  </tbody>\n",
              "</table>\n",
              "</div>"
            ],
            "text/plain": [
              "                CRIM        ZN     INDUS  ...     LSTAT      MEDV  NOXandFACT\n",
              "CRIM        1.000000 -0.203785  0.424274  ...  0.466580 -0.393589    0.445233\n",
              "ZN         -0.203785  1.000000 -0.537344  ... -0.415456  0.368822   -0.502227\n",
              "INDUS       0.424274 -0.537344  1.000000  ...  0.608752 -0.475511    0.971994\n",
              "CHAS       -0.065445 -0.039727  0.062740  ... -0.065984  0.205997    0.071451\n",
              "NOX         0.423872 -0.518655  0.780852  ...  0.606249 -0.428820    0.888897\n",
              "RM         -0.206569  0.311111 -0.372767  ... -0.632762  0.724289   -0.363084\n",
              "AGE         0.348129 -0.575807  0.653425  ...  0.613136 -0.366694    0.684260\n",
              "DIS        -0.376986  0.656459 -0.705935  ... -0.499114  0.236695   -0.722682\n",
              "RAD         0.615040 -0.322778  0.632258  ...  0.506451 -0.401787    0.649945\n",
              "TAX         0.583926 -0.322445  0.742296  ...  0.555013 -0.469015    0.757909\n",
              "PTRATIO     0.284418 -0.388360  0.363597  ...  0.368505 -0.519613    0.295161\n",
              "B          -0.353835  0.173124 -0.363302  ... -0.366304  0.344012   -0.395180\n",
              "LSTAT       0.466580 -0.415456  0.608752  ...  1.000000 -0.744289    0.634137\n",
              "MEDV       -0.393589  0.368822 -0.475511  ... -0.744289  1.000000   -0.483603\n",
              "NOXandFACT  0.445233 -0.502227  0.971994  ...  0.634137 -0.483603    1.000000\n",
              "\n",
              "[15 rows x 15 columns]"
            ]
          },
          "metadata": {
            "tags": []
          },
          "execution_count": 19
        }
      ]
    },
    {
      "cell_type": "code",
      "metadata": {
        "id": "faRNrvFiwX9J",
        "colab_type": "code",
        "colab": {
          "base_uri": "https://localhost:8080/",
          "height": 317
        },
        "outputId": "2b34ce2d-c1a0-4424-905a-1459d73950db"
      },
      "source": [
        "housing.describe()"
      ],
      "execution_count": null,
      "outputs": [
        {
          "output_type": "execute_result",
          "data": {
            "text/html": [
              "<div>\n",
              "<style scoped>\n",
              "    .dataframe tbody tr th:only-of-type {\n",
              "        vertical-align: middle;\n",
              "    }\n",
              "\n",
              "    .dataframe tbody tr th {\n",
              "        vertical-align: top;\n",
              "    }\n",
              "\n",
              "    .dataframe thead th {\n",
              "        text-align: right;\n",
              "    }\n",
              "</style>\n",
              "<table border=\"1\" class=\"dataframe\">\n",
              "  <thead>\n",
              "    <tr style=\"text-align: right;\">\n",
              "      <th></th>\n",
              "      <th>CRIM</th>\n",
              "      <th>ZN</th>\n",
              "      <th>INDUS</th>\n",
              "      <th>CHAS</th>\n",
              "      <th>NOX</th>\n",
              "      <th>RM</th>\n",
              "      <th>AGE</th>\n",
              "      <th>DIS</th>\n",
              "      <th>RAD</th>\n",
              "      <th>TAX</th>\n",
              "      <th>PTRATIO</th>\n",
              "      <th>B</th>\n",
              "      <th>LSTAT</th>\n",
              "      <th>MEDV</th>\n",
              "      <th>NOXandFACT</th>\n",
              "    </tr>\n",
              "  </thead>\n",
              "  <tbody>\n",
              "    <tr>\n",
              "      <th>count</th>\n",
              "      <td>404.000000</td>\n",
              "      <td>404.000000</td>\n",
              "      <td>404.000000</td>\n",
              "      <td>404.000000</td>\n",
              "      <td>404.000000</td>\n",
              "      <td>404.000000</td>\n",
              "      <td>404.000000</td>\n",
              "      <td>404.000000</td>\n",
              "      <td>404.000000</td>\n",
              "      <td>404.000000</td>\n",
              "      <td>404.000000</td>\n",
              "      <td>404.000000</td>\n",
              "      <td>404.000000</td>\n",
              "      <td>404.000000</td>\n",
              "      <td>404.000000</td>\n",
              "    </tr>\n",
              "    <tr>\n",
              "      <th>mean</th>\n",
              "      <td>3.692031</td>\n",
              "      <td>11.590347</td>\n",
              "      <td>10.899480</td>\n",
              "      <td>0.079208</td>\n",
              "      <td>0.556675</td>\n",
              "      <td>6.305656</td>\n",
              "      <td>68.359406</td>\n",
              "      <td>3.821825</td>\n",
              "      <td>9.673267</td>\n",
              "      <td>406.965347</td>\n",
              "      <td>18.441584</td>\n",
              "      <td>358.205545</td>\n",
              "      <td>12.530297</td>\n",
              "      <td>22.612129</td>\n",
              "      <td>6.689083</td>\n",
              "    </tr>\n",
              "    <tr>\n",
              "      <th>std</th>\n",
              "      <td>8.815981</td>\n",
              "      <td>23.305393</td>\n",
              "      <td>6.771705</td>\n",
              "      <td>0.270398</td>\n",
              "      <td>0.117849</td>\n",
              "      <td>0.712363</td>\n",
              "      <td>28.211658</td>\n",
              "      <td>2.132229</td>\n",
              "      <td>8.729868</td>\n",
              "      <td>168.248852</td>\n",
              "      <td>2.208994</td>\n",
              "      <td>88.203309</td>\n",
              "      <td>7.169353</td>\n",
              "      <td>9.391315</td>\n",
              "      <td>5.061574</td>\n",
              "    </tr>\n",
              "    <tr>\n",
              "      <th>min</th>\n",
              "      <td>0.006320</td>\n",
              "      <td>0.000000</td>\n",
              "      <td>0.460000</td>\n",
              "      <td>0.000000</td>\n",
              "      <td>0.385000</td>\n",
              "      <td>3.863000</td>\n",
              "      <td>6.000000</td>\n",
              "      <td>1.129600</td>\n",
              "      <td>1.000000</td>\n",
              "      <td>187.000000</td>\n",
              "      <td>12.600000</td>\n",
              "      <td>0.320000</td>\n",
              "      <td>1.730000</td>\n",
              "      <td>5.000000</td>\n",
              "      <td>0.194120</td>\n",
              "    </tr>\n",
              "    <tr>\n",
              "      <th>25%</th>\n",
              "      <td>0.082863</td>\n",
              "      <td>0.000000</td>\n",
              "      <td>5.130000</td>\n",
              "      <td>0.000000</td>\n",
              "      <td>0.453000</td>\n",
              "      <td>5.890500</td>\n",
              "      <td>45.075000</td>\n",
              "      <td>2.096725</td>\n",
              "      <td>4.000000</td>\n",
              "      <td>279.000000</td>\n",
              "      <td>17.400000</td>\n",
              "      <td>375.085000</td>\n",
              "      <td>6.867500</td>\n",
              "      <td>17.100000</td>\n",
              "      <td>2.475960</td>\n",
              "    </tr>\n",
              "    <tr>\n",
              "      <th>50%</th>\n",
              "      <td>0.294380</td>\n",
              "      <td>0.000000</td>\n",
              "      <td>8.560000</td>\n",
              "      <td>0.000000</td>\n",
              "      <td>0.538000</td>\n",
              "      <td>6.214000</td>\n",
              "      <td>77.150000</td>\n",
              "      <td>3.239250</td>\n",
              "      <td>5.000000</td>\n",
              "      <td>330.000000</td>\n",
              "      <td>19.100000</td>\n",
              "      <td>391.305000</td>\n",
              "      <td>10.925000</td>\n",
              "      <td>21.150000</td>\n",
              "      <td>4.451200</td>\n",
              "    </tr>\n",
              "    <tr>\n",
              "      <th>75%</th>\n",
              "      <td>3.694070</td>\n",
              "      <td>20.000000</td>\n",
              "      <td>18.100000</td>\n",
              "      <td>0.000000</td>\n",
              "      <td>0.647000</td>\n",
              "      <td>6.632000</td>\n",
              "      <td>94.150000</td>\n",
              "      <td>5.141475</td>\n",
              "      <td>24.000000</td>\n",
              "      <td>666.000000</td>\n",
              "      <td>20.200000</td>\n",
              "      <td>396.232500</td>\n",
              "      <td>16.780000</td>\n",
              "      <td>25.000000</td>\n",
              "      <td>12.145100</td>\n",
              "    </tr>\n",
              "    <tr>\n",
              "      <th>max</th>\n",
              "      <td>88.976200</td>\n",
              "      <td>100.000000</td>\n",
              "      <td>27.740000</td>\n",
              "      <td>1.000000</td>\n",
              "      <td>0.871000</td>\n",
              "      <td>8.780000</td>\n",
              "      <td>100.000000</td>\n",
              "      <td>12.126500</td>\n",
              "      <td>24.000000</td>\n",
              "      <td>711.000000</td>\n",
              "      <td>22.000000</td>\n",
              "      <td>396.900000</td>\n",
              "      <td>37.970000</td>\n",
              "      <td>50.000000</td>\n",
              "      <td>17.054180</td>\n",
              "    </tr>\n",
              "  </tbody>\n",
              "</table>\n",
              "</div>"
            ],
            "text/plain": [
              "             CRIM          ZN       INDUS  ...       LSTAT        MEDV  NOXandFACT\n",
              "count  404.000000  404.000000  404.000000  ...  404.000000  404.000000  404.000000\n",
              "mean     3.692031   11.590347   10.899480  ...   12.530297   22.612129    6.689083\n",
              "std      8.815981   23.305393    6.771705  ...    7.169353    9.391315    5.061574\n",
              "min      0.006320    0.000000    0.460000  ...    1.730000    5.000000    0.194120\n",
              "25%      0.082863    0.000000    5.130000  ...    6.867500   17.100000    2.475960\n",
              "50%      0.294380    0.000000    8.560000  ...   10.925000   21.150000    4.451200\n",
              "75%      3.694070   20.000000   18.100000  ...   16.780000   25.000000   12.145100\n",
              "max     88.976200  100.000000   27.740000  ...   37.970000   50.000000   17.054180\n",
              "\n",
              "[8 rows x 15 columns]"
            ]
          },
          "metadata": {
            "tags": []
          },
          "execution_count": 20
        }
      ]
    },
    {
      "cell_type": "markdown",
      "metadata": {
        "id": "ck9bnxaswbRC",
        "colab_type": "text"
      },
      "source": [
        "Step 4: Preparing the Data for Machine Learning Algorithm"
      ]
    },
    {
      "cell_type": "code",
      "metadata": {
        "id": "XC_FVdVIwYUu",
        "colab_type": "code",
        "colab": {}
      },
      "source": [
        "#Feature engineer in these datasets\n",
        "\n",
        "strat_train_set['NOXandFACT'] = housing['NOXandFACT']\n",
        "strat_train_set['richhighways'] = housing['TAX']/housing['RAD']\n",
        "strat_train_set = strat_train_set.drop('INDUS', axis = 1)\n",
        "strat_train_set = strat_train_set.drop('RAD', axis = 1)\n",
        "\n",
        "strat_test_set['NOXandFACT'] = housing2['NOXandFACT']\n",
        "strat_test_set['richhighways'] = housing2['TAX']/housing2['RAD']\n",
        "strat_test_set = strat_test_set.drop('INDUS', axis = 1)\n",
        "strat_test_set = strat_test_set.drop('RAD', axis = 1)\n",
        "\n",
        "housing = strat_train_set.drop(\"MEDV\", axis=1) # drop labels for training set\n",
        "housing_labels = strat_train_set[\"MEDV\"].copy()"
      ],
      "execution_count": null,
      "outputs": []
    },
    {
      "cell_type": "code",
      "metadata": {
        "id": "IWNpGpDmyii7",
        "colab_type": "code",
        "colab": {
          "base_uri": "https://localhost:8080/",
          "height": 204
        },
        "outputId": "3fbf897a-22bd-44ae-db66-768169e20456"
      },
      "source": [
        "housing.head()"
      ],
      "execution_count": null,
      "outputs": [
        {
          "output_type": "execute_result",
          "data": {
            "text/html": [
              "<div>\n",
              "<style scoped>\n",
              "    .dataframe tbody tr th:only-of-type {\n",
              "        vertical-align: middle;\n",
              "    }\n",
              "\n",
              "    .dataframe tbody tr th {\n",
              "        vertical-align: top;\n",
              "    }\n",
              "\n",
              "    .dataframe thead th {\n",
              "        text-align: right;\n",
              "    }\n",
              "</style>\n",
              "<table border=\"1\" class=\"dataframe\">\n",
              "  <thead>\n",
              "    <tr style=\"text-align: right;\">\n",
              "      <th></th>\n",
              "      <th>CRIM</th>\n",
              "      <th>ZN</th>\n",
              "      <th>CHAS</th>\n",
              "      <th>NOX</th>\n",
              "      <th>RM</th>\n",
              "      <th>AGE</th>\n",
              "      <th>DIS</th>\n",
              "      <th>TAX</th>\n",
              "      <th>PTRATIO</th>\n",
              "      <th>B</th>\n",
              "      <th>LSTAT</th>\n",
              "      <th>NOXandFACT</th>\n",
              "      <th>richhighways</th>\n",
              "    </tr>\n",
              "  </thead>\n",
              "  <tbody>\n",
              "    <tr>\n",
              "      <th>118</th>\n",
              "      <td>0.13058</td>\n",
              "      <td>0.0</td>\n",
              "      <td>0</td>\n",
              "      <td>0.547</td>\n",
              "      <td>5.872</td>\n",
              "      <td>73.1</td>\n",
              "      <td>2.4775</td>\n",
              "      <td>432.0</td>\n",
              "      <td>17.8</td>\n",
              "      <td>338.63</td>\n",
              "      <td>15.37</td>\n",
              "      <td>5.47547</td>\n",
              "      <td>72.0</td>\n",
              "    </tr>\n",
              "    <tr>\n",
              "      <th>283</th>\n",
              "      <td>0.01501</td>\n",
              "      <td>90.0</td>\n",
              "      <td>1</td>\n",
              "      <td>0.401</td>\n",
              "      <td>7.923</td>\n",
              "      <td>24.8</td>\n",
              "      <td>5.8850</td>\n",
              "      <td>198.0</td>\n",
              "      <td>13.6</td>\n",
              "      <td>395.52</td>\n",
              "      <td>3.16</td>\n",
              "      <td>0.48521</td>\n",
              "      <td>198.0</td>\n",
              "    </tr>\n",
              "    <tr>\n",
              "      <th>39</th>\n",
              "      <td>0.02763</td>\n",
              "      <td>75.0</td>\n",
              "      <td>0</td>\n",
              "      <td>0.428</td>\n",
              "      <td>6.595</td>\n",
              "      <td>21.8</td>\n",
              "      <td>5.4011</td>\n",
              "      <td>252.0</td>\n",
              "      <td>18.3</td>\n",
              "      <td>395.63</td>\n",
              "      <td>4.32</td>\n",
              "      <td>1.26260</td>\n",
              "      <td>84.0</td>\n",
              "    </tr>\n",
              "    <tr>\n",
              "      <th>148</th>\n",
              "      <td>2.33099</td>\n",
              "      <td>0.0</td>\n",
              "      <td>0</td>\n",
              "      <td>0.871</td>\n",
              "      <td>5.186</td>\n",
              "      <td>93.8</td>\n",
              "      <td>1.5296</td>\n",
              "      <td>403.0</td>\n",
              "      <td>14.7</td>\n",
              "      <td>356.99</td>\n",
              "      <td>28.32</td>\n",
              "      <td>17.05418</td>\n",
              "      <td>80.6</td>\n",
              "    </tr>\n",
              "    <tr>\n",
              "      <th>125</th>\n",
              "      <td>0.16902</td>\n",
              "      <td>0.0</td>\n",
              "      <td>0</td>\n",
              "      <td>0.581</td>\n",
              "      <td>5.986</td>\n",
              "      <td>88.4</td>\n",
              "      <td>1.9929</td>\n",
              "      <td>188.0</td>\n",
              "      <td>19.1</td>\n",
              "      <td>385.02</td>\n",
              "      <td>14.81</td>\n",
              "      <td>14.90265</td>\n",
              "      <td>94.0</td>\n",
              "    </tr>\n",
              "  </tbody>\n",
              "</table>\n",
              "</div>"
            ],
            "text/plain": [
              "        CRIM    ZN  CHAS    NOX  ...       B  LSTAT  NOXandFACT  richhighways\n",
              "118  0.13058   0.0     0  0.547  ...  338.63  15.37     5.47547          72.0\n",
              "283  0.01501  90.0     1  0.401  ...  395.52   3.16     0.48521         198.0\n",
              "39   0.02763  75.0     0  0.428  ...  395.63   4.32     1.26260          84.0\n",
              "148  2.33099   0.0     0  0.871  ...  356.99  28.32    17.05418          80.6\n",
              "125  0.16902   0.0     0  0.581  ...  385.02  14.81    14.90265          94.0\n",
              "\n",
              "[5 rows x 13 columns]"
            ]
          },
          "metadata": {
            "tags": []
          },
          "execution_count": 22
        }
      ]
    },
    {
      "cell_type": "code",
      "metadata": {
        "id": "GLITjMISYZ7N",
        "colab_type": "code",
        "colab": {
          "base_uri": "https://localhost:8080/",
          "height": 472
        },
        "outputId": "d5c93e36-3e8e-486d-98c1-acbf46e9d499"
      },
      "source": [
        "housing.corr()"
      ],
      "execution_count": null,
      "outputs": [
        {
          "output_type": "execute_result",
          "data": {
            "text/html": [
              "<div>\n",
              "<style scoped>\n",
              "    .dataframe tbody tr th:only-of-type {\n",
              "        vertical-align: middle;\n",
              "    }\n",
              "\n",
              "    .dataframe tbody tr th {\n",
              "        vertical-align: top;\n",
              "    }\n",
              "\n",
              "    .dataframe thead th {\n",
              "        text-align: right;\n",
              "    }\n",
              "</style>\n",
              "<table border=\"1\" class=\"dataframe\">\n",
              "  <thead>\n",
              "    <tr style=\"text-align: right;\">\n",
              "      <th></th>\n",
              "      <th>CRIM</th>\n",
              "      <th>ZN</th>\n",
              "      <th>CHAS</th>\n",
              "      <th>NOX</th>\n",
              "      <th>RM</th>\n",
              "      <th>AGE</th>\n",
              "      <th>DIS</th>\n",
              "      <th>TAX</th>\n",
              "      <th>PTRATIO</th>\n",
              "      <th>B</th>\n",
              "      <th>LSTAT</th>\n",
              "      <th>NOXandFACT</th>\n",
              "      <th>richhighways</th>\n",
              "    </tr>\n",
              "  </thead>\n",
              "  <tbody>\n",
              "    <tr>\n",
              "      <th>CRIM</th>\n",
              "      <td>1.000000</td>\n",
              "      <td>-0.203785</td>\n",
              "      <td>-0.065445</td>\n",
              "      <td>0.423872</td>\n",
              "      <td>-0.206569</td>\n",
              "      <td>0.348129</td>\n",
              "      <td>-0.376986</td>\n",
              "      <td>0.583926</td>\n",
              "      <td>0.284418</td>\n",
              "      <td>-0.353835</td>\n",
              "      <td>0.466580</td>\n",
              "      <td>0.445233</td>\n",
              "      <td>-0.286767</td>\n",
              "    </tr>\n",
              "    <tr>\n",
              "      <th>ZN</th>\n",
              "      <td>-0.203785</td>\n",
              "      <td>1.000000</td>\n",
              "      <td>-0.039727</td>\n",
              "      <td>-0.518655</td>\n",
              "      <td>0.311111</td>\n",
              "      <td>-0.575807</td>\n",
              "      <td>0.656459</td>\n",
              "      <td>-0.322445</td>\n",
              "      <td>-0.388360</td>\n",
              "      <td>0.173124</td>\n",
              "      <td>-0.415456</td>\n",
              "      <td>-0.502227</td>\n",
              "      <td>0.328717</td>\n",
              "    </tr>\n",
              "    <tr>\n",
              "      <th>CHAS</th>\n",
              "      <td>-0.065445</td>\n",
              "      <td>-0.039727</td>\n",
              "      <td>1.000000</td>\n",
              "      <td>0.067457</td>\n",
              "      <td>0.109808</td>\n",
              "      <td>0.084183</td>\n",
              "      <td>-0.102326</td>\n",
              "      <td>-0.060646</td>\n",
              "      <td>-0.144281</td>\n",
              "      <td>0.046503</td>\n",
              "      <td>-0.065984</td>\n",
              "      <td>0.071451</td>\n",
              "      <td>-0.045598</td>\n",
              "    </tr>\n",
              "    <tr>\n",
              "      <th>NOX</th>\n",
              "      <td>0.423872</td>\n",
              "      <td>-0.518655</td>\n",
              "      <td>0.067457</td>\n",
              "      <td>1.000000</td>\n",
              "      <td>-0.289689</td>\n",
              "      <td>0.737918</td>\n",
              "      <td>-0.771368</td>\n",
              "      <td>0.670013</td>\n",
              "      <td>0.153184</td>\n",
              "      <td>-0.387888</td>\n",
              "      <td>0.606249</td>\n",
              "      <td>0.888897</td>\n",
              "      <td>-0.320412</td>\n",
              "    </tr>\n",
              "    <tr>\n",
              "      <th>RM</th>\n",
              "      <td>-0.206569</td>\n",
              "      <td>0.311111</td>\n",
              "      <td>0.109808</td>\n",
              "      <td>-0.289689</td>\n",
              "      <td>1.000000</td>\n",
              "      <td>-0.222409</td>\n",
              "      <td>0.177865</td>\n",
              "      <td>-0.271795</td>\n",
              "      <td>-0.369218</td>\n",
              "      <td>0.133699</td>\n",
              "      <td>-0.632762</td>\n",
              "      <td>-0.363084</td>\n",
              "      <td>0.088899</td>\n",
              "    </tr>\n",
              "    <tr>\n",
              "      <th>AGE</th>\n",
              "      <td>0.348129</td>\n",
              "      <td>-0.575807</td>\n",
              "      <td>0.084183</td>\n",
              "      <td>0.737918</td>\n",
              "      <td>-0.222409</td>\n",
              "      <td>1.000000</td>\n",
              "      <td>-0.759131</td>\n",
              "      <td>0.503976</td>\n",
              "      <td>0.225499</td>\n",
              "      <td>-0.258510</td>\n",
              "      <td>0.613136</td>\n",
              "      <td>0.684260</td>\n",
              "      <td>-0.262774</td>\n",
              "    </tr>\n",
              "    <tr>\n",
              "      <th>DIS</th>\n",
              "      <td>-0.376986</td>\n",
              "      <td>0.656459</td>\n",
              "      <td>-0.102326</td>\n",
              "      <td>-0.771368</td>\n",
              "      <td>0.177865</td>\n",
              "      <td>-0.759131</td>\n",
              "      <td>1.000000</td>\n",
              "      <td>-0.527280</td>\n",
              "      <td>-0.180821</td>\n",
              "      <td>0.279500</td>\n",
              "      <td>-0.499114</td>\n",
              "      <td>-0.722682</td>\n",
              "      <td>0.335255</td>\n",
              "    </tr>\n",
              "    <tr>\n",
              "      <th>TAX</th>\n",
              "      <td>0.583926</td>\n",
              "      <td>-0.322445</td>\n",
              "      <td>-0.060646</td>\n",
              "      <td>0.670013</td>\n",
              "      <td>-0.271795</td>\n",
              "      <td>0.503976</td>\n",
              "      <td>-0.527280</td>\n",
              "      <td>1.000000</td>\n",
              "      <td>0.444281</td>\n",
              "      <td>-0.432307</td>\n",
              "      <td>0.555013</td>\n",
              "      <td>0.757909</td>\n",
              "      <td>-0.364164</td>\n",
              "    </tr>\n",
              "    <tr>\n",
              "      <th>PTRATIO</th>\n",
              "      <td>0.284418</td>\n",
              "      <td>-0.388360</td>\n",
              "      <td>-0.144281</td>\n",
              "      <td>0.153184</td>\n",
              "      <td>-0.369218</td>\n",
              "      <td>0.225499</td>\n",
              "      <td>-0.180821</td>\n",
              "      <td>0.444281</td>\n",
              "      <td>1.000000</td>\n",
              "      <td>-0.171917</td>\n",
              "      <td>0.368505</td>\n",
              "      <td>0.295161</td>\n",
              "      <td>-0.221859</td>\n",
              "    </tr>\n",
              "    <tr>\n",
              "      <th>B</th>\n",
              "      <td>-0.353835</td>\n",
              "      <td>0.173124</td>\n",
              "      <td>0.046503</td>\n",
              "      <td>-0.387888</td>\n",
              "      <td>0.133699</td>\n",
              "      <td>-0.258510</td>\n",
              "      <td>0.279500</td>\n",
              "      <td>-0.432307</td>\n",
              "      <td>-0.171917</td>\n",
              "      <td>1.000000</td>\n",
              "      <td>-0.366304</td>\n",
              "      <td>-0.395180</td>\n",
              "      <td>0.193436</td>\n",
              "    </tr>\n",
              "    <tr>\n",
              "      <th>LSTAT</th>\n",
              "      <td>0.466580</td>\n",
              "      <td>-0.415456</td>\n",
              "      <td>-0.065984</td>\n",
              "      <td>0.606249</td>\n",
              "      <td>-0.632762</td>\n",
              "      <td>0.613136</td>\n",
              "      <td>-0.499114</td>\n",
              "      <td>0.555013</td>\n",
              "      <td>0.368505</td>\n",
              "      <td>-0.366304</td>\n",
              "      <td>1.000000</td>\n",
              "      <td>0.634137</td>\n",
              "      <td>-0.257362</td>\n",
              "    </tr>\n",
              "    <tr>\n",
              "      <th>NOXandFACT</th>\n",
              "      <td>0.445233</td>\n",
              "      <td>-0.502227</td>\n",
              "      <td>0.071451</td>\n",
              "      <td>0.888897</td>\n",
              "      <td>-0.363084</td>\n",
              "      <td>0.684260</td>\n",
              "      <td>-0.722682</td>\n",
              "      <td>0.757909</td>\n",
              "      <td>0.295161</td>\n",
              "      <td>-0.395180</td>\n",
              "      <td>0.634137</td>\n",
              "      <td>1.000000</td>\n",
              "      <td>-0.291995</td>\n",
              "    </tr>\n",
              "    <tr>\n",
              "      <th>richhighways</th>\n",
              "      <td>-0.286767</td>\n",
              "      <td>0.328717</td>\n",
              "      <td>-0.045598</td>\n",
              "      <td>-0.320412</td>\n",
              "      <td>0.088899</td>\n",
              "      <td>-0.262774</td>\n",
              "      <td>0.335255</td>\n",
              "      <td>-0.364164</td>\n",
              "      <td>-0.221859</td>\n",
              "      <td>0.193436</td>\n",
              "      <td>-0.257362</td>\n",
              "      <td>-0.291995</td>\n",
              "      <td>1.000000</td>\n",
              "    </tr>\n",
              "  </tbody>\n",
              "</table>\n",
              "</div>"
            ],
            "text/plain": [
              "                  CRIM        ZN      CHAS  ...     LSTAT  NOXandFACT  richhighways\n",
              "CRIM          1.000000 -0.203785 -0.065445  ...  0.466580    0.445233     -0.286767\n",
              "ZN           -0.203785  1.000000 -0.039727  ... -0.415456   -0.502227      0.328717\n",
              "CHAS         -0.065445 -0.039727  1.000000  ... -0.065984    0.071451     -0.045598\n",
              "NOX           0.423872 -0.518655  0.067457  ...  0.606249    0.888897     -0.320412\n",
              "RM           -0.206569  0.311111  0.109808  ... -0.632762   -0.363084      0.088899\n",
              "AGE           0.348129 -0.575807  0.084183  ...  0.613136    0.684260     -0.262774\n",
              "DIS          -0.376986  0.656459 -0.102326  ... -0.499114   -0.722682      0.335255\n",
              "TAX           0.583926 -0.322445 -0.060646  ...  0.555013    0.757909     -0.364164\n",
              "PTRATIO       0.284418 -0.388360 -0.144281  ...  0.368505    0.295161     -0.221859\n",
              "B            -0.353835  0.173124  0.046503  ... -0.366304   -0.395180      0.193436\n",
              "LSTAT         0.466580 -0.415456 -0.065984  ...  1.000000    0.634137     -0.257362\n",
              "NOXandFACT    0.445233 -0.502227  0.071451  ...  0.634137    1.000000     -0.291995\n",
              "richhighways -0.286767  0.328717 -0.045598  ... -0.257362   -0.291995      1.000000\n",
              "\n",
              "[13 rows x 13 columns]"
            ]
          },
          "metadata": {
            "tags": []
          },
          "execution_count": 23
        }
      ]
    },
    {
      "cell_type": "code",
      "metadata": {
        "id": "1CIDVuMFxOQc",
        "colab_type": "code",
        "colab": {}
      },
      "source": [
        "from sklearn.pipeline import Pipeline\n",
        "from sklearn.preprocessing import StandardScaler\n",
        "\n",
        "pipe = Pipeline([\n",
        "        ('std_scaler', StandardScaler())\n",
        "    ])\n",
        "\n",
        "housing_prepared = pipe.fit_transform(housing)"
      ],
      "execution_count": null,
      "outputs": []
    },
    {
      "cell_type": "markdown",
      "metadata": {
        "id": "qv4lo-M7xcIg",
        "colab_type": "text"
      },
      "source": [
        "Step 5: Select and Train Model"
      ]
    },
    {
      "cell_type": "code",
      "metadata": {
        "id": "aQr7i46szJE5",
        "colab_type": "code",
        "colab": {
          "base_uri": "https://localhost:8080/",
          "height": 34
        },
        "outputId": "c67da054-d89e-44f3-888d-1725d6939628"
      },
      "source": [
        "from sklearn.linear_model import LinearRegression\n",
        "\n",
        "lin_reg = LinearRegression()\n",
        "lin_reg.fit(housing_prepared, housing_labels)"
      ],
      "execution_count": null,
      "outputs": [
        {
          "output_type": "execute_result",
          "data": {
            "text/plain": [
              "LinearRegression(copy_X=True, fit_intercept=True, n_jobs=None, normalize=False)"
            ]
          },
          "metadata": {
            "tags": []
          },
          "execution_count": 25
        }
      ]
    },
    {
      "cell_type": "code",
      "metadata": {
        "id": "G_-hibes005A",
        "colab_type": "code",
        "colab": {
          "base_uri": "https://localhost:8080/",
          "height": 34
        },
        "outputId": "614e60ea-9925-4744-eba3-412e7105e623"
      },
      "source": [
        "some_data = housing.iloc[:5]\n",
        "some_labels = housing_labels.iloc[:5]\n",
        "some_data_prepared = pipe.transform(some_data)\n",
        "\n",
        "print(\"Predictions:\", lin_reg.predict(some_data_prepared))"
      ],
      "execution_count": null,
      "outputs": [
        {
          "output_type": "stream",
          "text": [
            "Predictions: [20.97828824 43.88967156 31.5167398  10.10857565 21.37941719]\n"
          ],
          "name": "stdout"
        }
      ]
    },
    {
      "cell_type": "code",
      "metadata": {
        "id": "3NILy3vI02zL",
        "colab_type": "code",
        "colab": {
          "base_uri": "https://localhost:8080/",
          "height": 34
        },
        "outputId": "946eb015-3570-4b44-bc45-ed6450aa7ded"
      },
      "source": [
        "print(\"Labels:\", list(some_labels))"
      ],
      "execution_count": null,
      "outputs": [
        {
          "output_type": "stream",
          "text": [
            "Labels: [20.4, 50.0, 30.8, 17.8, 21.4]\n"
          ],
          "name": "stdout"
        }
      ]
    },
    {
      "cell_type": "code",
      "metadata": {
        "id": "SREyQSQW1HGa",
        "colab_type": "code",
        "colab": {
          "base_uri": "https://localhost:8080/",
          "height": 34
        },
        "outputId": "67b839e6-0a50-42c1-e219-66ed842484e8"
      },
      "source": [
        "from sklearn.metrics import mean_squared_error\n",
        "\n",
        "housing_predictions = lin_reg.predict(housing_prepared)\n",
        "lin_mse = mean_squared_error(housing_labels, housing_predictions)\n",
        "lin_rmse = np.sqrt(lin_mse)\n",
        "lin_rmse"
      ],
      "execution_count": null,
      "outputs": [
        {
          "output_type": "execute_result",
          "data": {
            "text/plain": [
              "4.57133484852726"
            ]
          },
          "metadata": {
            "tags": []
          },
          "execution_count": 28
        }
      ]
    },
    {
      "cell_type": "code",
      "metadata": {
        "id": "DWGrwHo11HvB",
        "colab_type": "code",
        "colab": {
          "base_uri": "https://localhost:8080/",
          "height": 136
        },
        "outputId": "3c2a7c02-c221-461e-c320-5dde5ef27768"
      },
      "source": [
        "from sklearn.ensemble import RandomForestRegressor\n",
        "\n",
        "forest_reg = RandomForestRegressor(n_estimators=100, random_state=11)\n",
        "forest_reg.fit(housing_prepared, housing_labels)"
      ],
      "execution_count": null,
      "outputs": [
        {
          "output_type": "execute_result",
          "data": {
            "text/plain": [
              "RandomForestRegressor(bootstrap=True, ccp_alpha=0.0, criterion='mse',\n",
              "                      max_depth=None, max_features='auto', max_leaf_nodes=None,\n",
              "                      max_samples=None, min_impurity_decrease=0.0,\n",
              "                      min_impurity_split=None, min_samples_leaf=1,\n",
              "                      min_samples_split=2, min_weight_fraction_leaf=0.0,\n",
              "                      n_estimators=100, n_jobs=None, oob_score=False,\n",
              "                      random_state=11, verbose=0, warm_start=False)"
            ]
          },
          "metadata": {
            "tags": []
          },
          "execution_count": 29
        }
      ]
    },
    {
      "cell_type": "code",
      "metadata": {
        "id": "O9cMZYdOTSN-",
        "colab_type": "code",
        "colab": {
          "base_uri": "https://localhost:8080/",
          "height": 34
        },
        "outputId": "a0580089-6c63-4a44-e37c-6ce418096a14"
      },
      "source": [
        "housing_predictions = forest_reg.predict(housing_prepared)\n",
        "forest_mse = mean_squared_error(housing_labels, housing_predictions)\n",
        "forest_rmse = np.sqrt(forest_mse)\n",
        "forest_rmse"
      ],
      "execution_count": null,
      "outputs": [
        {
          "output_type": "execute_result",
          "data": {
            "text/plain": [
              "1.2623618765733313"
            ]
          },
          "metadata": {
            "tags": []
          },
          "execution_count": 30
        }
      ]
    },
    {
      "cell_type": "markdown",
      "metadata": {
        "id": "LbSqiHs2ZORf",
        "colab_type": "text"
      },
      "source": [
        "Step 6: Fine Tuning"
      ]
    },
    {
      "cell_type": "code",
      "metadata": {
        "id": "kfwgLlFyZiiC",
        "colab_type": "code",
        "colab": {
          "base_uri": "https://localhost:8080/",
          "height": 425
        },
        "outputId": "9f3ee874-6721-45ac-d99b-b09d7beb60d5"
      },
      "source": [
        "from sklearn.model_selection import GridSearchCV\n",
        "\n",
        "param_grid = [\n",
        "    {'n_estimators': [3, 10, 30], \n",
        "     'max_features': [2, 3, 4, 6, 8, 10], \n",
        "     'max_depth': [10,11,12,13,14,15]},\n",
        "\n",
        "    {'bootstrap': [False], \n",
        "     'n_estimators': [3, 10, 30], \n",
        "     'max_features': [2, 3, 4, 6, 8], \n",
        "     'max_depth':[10,11,12,13,14,15]}\n",
        "  ]\n",
        "\n",
        "forest_reg = RandomForestRegressor(random_state=11)\n",
        "grid_search = GridSearchCV(forest_reg, param_grid, cv=5,\n",
        "                           scoring='neg_mean_squared_error',\n",
        "                           return_train_score=True)\n",
        "grid_search.fit(housing_prepared, housing_labels)"
      ],
      "execution_count": null,
      "outputs": [
        {
          "output_type": "execute_result",
          "data": {
            "text/plain": [
              "GridSearchCV(cv=5, error_score=nan,\n",
              "             estimator=RandomForestRegressor(bootstrap=True, ccp_alpha=0.0,\n",
              "                                             criterion='mse', max_depth=None,\n",
              "                                             max_features='auto',\n",
              "                                             max_leaf_nodes=None,\n",
              "                                             max_samples=None,\n",
              "                                             min_impurity_decrease=0.0,\n",
              "                                             min_impurity_split=None,\n",
              "                                             min_samples_leaf=1,\n",
              "                                             min_samples_split=2,\n",
              "                                             min_weight_fraction_leaf=0.0,\n",
              "                                             n_estimators=100, n_jobs=None,\n",
              "                                             oob_score=False, rand...\n",
              "                                             verbose=0, warm_start=False),\n",
              "             iid='deprecated', n_jobs=None,\n",
              "             param_grid=[{'max_depth': [10, 11, 12, 13, 14, 15],\n",
              "                          'max_features': [2, 3, 4, 6, 8, 10],\n",
              "                          'n_estimators': [3, 10, 30]},\n",
              "                         {'bootstrap': [False],\n",
              "                          'max_depth': [10, 11, 12, 13, 14, 15],\n",
              "                          'max_features': [2, 3, 4, 6, 8],\n",
              "                          'n_estimators': [3, 10, 30]}],\n",
              "             pre_dispatch='2*n_jobs', refit=True, return_train_score=True,\n",
              "             scoring='neg_mean_squared_error', verbose=0)"
            ]
          },
          "metadata": {
            "tags": []
          },
          "execution_count": 31
        }
      ]
    },
    {
      "cell_type": "code",
      "metadata": {
        "id": "Ez6NryyWTWfY",
        "colab_type": "code",
        "colab": {
          "base_uri": "https://localhost:8080/",
          "height": 136
        },
        "outputId": "4aab55c0-20e9-4b9f-e0c1-483fe5fd620c"
      },
      "source": [
        "grid_search.best_estimator_"
      ],
      "execution_count": null,
      "outputs": [
        {
          "output_type": "execute_result",
          "data": {
            "text/plain": [
              "RandomForestRegressor(bootstrap=False, ccp_alpha=0.0, criterion='mse',\n",
              "                      max_depth=11, max_features=4, max_leaf_nodes=None,\n",
              "                      max_samples=None, min_impurity_decrease=0.0,\n",
              "                      min_impurity_split=None, min_samples_leaf=1,\n",
              "                      min_samples_split=2, min_weight_fraction_leaf=0.0,\n",
              "                      n_estimators=30, n_jobs=None, oob_score=False,\n",
              "                      random_state=11, verbose=0, warm_start=False)"
            ]
          },
          "metadata": {
            "tags": []
          },
          "execution_count": 32
        }
      ]
    },
    {
      "cell_type": "code",
      "metadata": {
        "id": "KcvtU3Y4hTso",
        "colab_type": "code",
        "colab": {
          "base_uri": "https://localhost:8080/",
          "height": 68
        },
        "outputId": "b1829d60-55fc-45a7-e5ef-dc8ae0379300"
      },
      "source": [
        "grid_search.best_estimator_.feature_importances_"
      ],
      "execution_count": null,
      "outputs": [
        {
          "output_type": "execute_result",
          "data": {
            "text/plain": [
              "array([0.05740261, 0.00461546, 0.01542731, 0.0466233 , 0.33927455,\n",
              "       0.01833112, 0.05012194, 0.04390993, 0.0750941 , 0.01285348,\n",
              "       0.2454634 , 0.07969242, 0.01119039])"
            ]
          },
          "metadata": {
            "tags": []
          },
          "execution_count": 35
        }
      ]
    },
    {
      "cell_type": "code",
      "metadata": {
        "id": "q2Gzpdb9Z1s-",
        "colab_type": "code",
        "colab": {}
      },
      "source": [
        "#The Test\n",
        "final_model = grid_search.best_estimator_\n",
        "\n",
        "\n",
        "X_test = strat_test_set.drop(\"MEDV\", axis=1)\n",
        "y_test = strat_test_set[\"MEDV\"].copy()\n",
        "\n",
        "X_test_prepared = pipe.transform(X_test)\n",
        "final_predictions = final_model.predict(X_test_prepared)\n",
        "\n",
        "final_mse = mean_squared_error(y_test, final_predictions)\n",
        "final_rmse = np.sqrt(final_mse)"
      ],
      "execution_count": null,
      "outputs": []
    },
    {
      "cell_type": "code",
      "metadata": {
        "id": "-KNl9FOxZ9fw",
        "colab_type": "code",
        "colab": {
          "base_uri": "https://localhost:8080/",
          "height": 34
        },
        "outputId": "d45b9841-2b60-400d-90f8-0eb32e746e8e"
      },
      "source": [
        "final_rmse"
      ],
      "execution_count": null,
      "outputs": [
        {
          "output_type": "execute_result",
          "data": {
            "text/plain": [
              "2.954763248773004"
            ]
          },
          "metadata": {
            "tags": []
          },
          "execution_count": 34
        }
      ]
    },
    {
      "cell_type": "markdown",
      "metadata": {
        "id": "ji_Q37iPZzds",
        "colab_type": "text"
      },
      "source": [
        "For this problem, I decided to implement a random forest  model to predict the median house value of homes in Boston. To begin, I looked at the dataset and gave names to the columns. There were no missing values, so that was nice. I used stratified sets to make sure the training and test sets were representative of the population. To stratify, I used the LSTAT variable because then it would represent the actual lower status and upper status feautres of the population.\n",
        "\n",
        "I tried to see correlations between some features and MEDV by graphing them on a scatter plot. It appeared RM was positively correlated with MEDV. I also decided to look at the correlation matrix between each of the variables to detect signs of multicollinearity, which would make the standard errors for the coefficients of the estimators even wider. I corrected this by feature engineering new variables called \"NOXandFACT\" and \"richhighways\". After dropping the features, the error was actually worse because I suspect that the dropped feature helped the other features. I decided to keep them both by combining them into one feature to keep the effects of both and get rid of the multicollinearity. I looked at TAX and RAD and that was a definite case of multicollinearity. I combined them together and made a new variable. These performed better, so I decided to keep them. \n",
        "\n",
        "I tried out a basic linear regression model and a random forest model. The random forest model beat the linear regression model by a lot and it performed way better since each of the decision trees in the model was combined into one model. I then fine-tuned the model and ended up finding the optimal model hyperparameters. I trained the final model on the test set and ended with an RMSE of 2.95.\n",
        "\n",
        "It appears that this model will be the best to help identify fair housing prices for investing in."
      ]
    }
  ]
}
